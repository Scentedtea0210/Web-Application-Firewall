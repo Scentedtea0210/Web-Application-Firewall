{
 "cells": [
  {
   "cell_type": "code",
   "execution_count": 1,
   "metadata": {},
   "outputs": [],
   "source": [
    "import pandas as pd"
   ]
  },
  {
   "cell_type": "code",
   "execution_count": 2,
   "metadata": {},
   "outputs": [
    {
     "name": "stderr",
     "output_type": "stream",
     "text": [
      "<ipython-input-2-e8074059952c>:1: FutureWarning: Starting with Pandas version 2.0 all arguments of read_json except for the argument 'path_or_buf' will be keyword-only\n",
      "  ECML = pd.read_json('..\\BuiltDataset\\ECMLDataSet_Standard.json','records')\n"
     ]
    }
   ],
   "source": [
    "ECML = pd.read_json('..\\BuiltDataset\\ECMLDataSet_Standard.json','records')"
   ]
  },
  {
   "cell_type": "code",
   "execution_count": 3,
   "metadata": {},
   "outputs": [
    {
     "data": {
      "text/html": [
       "<div>\n",
       "<style scoped>\n",
       "    .dataframe tbody tr th:only-of-type {\n",
       "        vertical-align: middle;\n",
       "    }\n",
       "\n",
       "    .dataframe tbody tr th {\n",
       "        vertical-align: top;\n",
       "    }\n",
       "\n",
       "    .dataframe thead th {\n",
       "        text-align: right;\n",
       "    }\n",
       "</style>\n",
       "<table border=\"1\" class=\"dataframe\">\n",
       "  <thead>\n",
       "    <tr style=\"text-align: right;\">\n",
       "      <th></th>\n",
       "      <th>payload</th>\n",
       "      <th>type</th>\n",
       "    </tr>\n",
       "  </thead>\n",
       "  <tbody>\n",
       "    <tr>\n",
       "      <th>0</th>\n",
       "      <td>/l_t@/_feu1wvhtpass2/1nieqnnrvnzktuasain/tg1ar...</td>\n",
       "      <td>valid</td>\n",
       "    </tr>\n",
       "    <tr>\n",
       "      <th>1</th>\n",
       "      <td>crteyreti=wsn&amp;et3tf6shov=tdsviee y fum$oh3;ore...</td>\n",
       "      <td>valid</td>\n",
       "    </tr>\n",
       "    <tr>\n",
       "      <th>2</th>\n",
       "      <td>lnujse/3.5.6.9</td>\n",
       "      <td>valid</td>\n",
       "    </tr>\n",
       "    <tr>\n",
       "      <th>3</th>\n",
       "      <td>apnalto-md;q=0.6, asdn-ee, eai-5ns;q=0.0</td>\n",
       "      <td>valid</td>\n",
       "    </tr>\n",
       "    <tr>\n",
       "      <th>4</th>\n",
       "      <td>compress;q=0.1</td>\n",
       "      <td>valid</td>\n",
       "    </tr>\n",
       "    <tr>\n",
       "      <th>...</th>\n",
       "      <td>...</td>\n",
       "      <td>...</td>\n",
       "    </tr>\n",
       "    <tr>\n",
       "      <th>219035</th>\n",
       "      <td>eita7=8722556;l7js=twuptboy;3aotthg9r=62 or rh...</td>\n",
       "      <td>other</td>\n",
       "    </tr>\n",
       "    <tr>\n",
       "      <th>219036</th>\n",
       "      <td>kuts=nle;zdfhsre=xrzoi' or 1&lt; n/taaart/o/child...</td>\n",
       "      <td>other</td>\n",
       "    </tr>\n",
       "    <tr>\n",
       "      <th>219037</th>\n",
       "      <td>nd9a=8 or 1&lt; e8kil/nhea/ar/child::text()[posit...</td>\n",
       "      <td>other</td>\n",
       "    </tr>\n",
       "    <tr>\n",
       "      <th>219038</th>\n",
       "      <td>elsmaem=(i &lt; count(ae/child::text()) and j &lt; c...</td>\n",
       "      <td>other</td>\n",
       "    </tr>\n",
       "    <tr>\n",
       "      <th>219039</th>\n",
       "      <td>dode6uqh=7r' or count( path/child::node()[posi...</td>\n",
       "      <td>other</td>\n",
       "    </tr>\n",
       "  </tbody>\n",
       "</table>\n",
       "<p>219040 rows × 2 columns</p>\n",
       "</div>"
      ],
      "text/plain": [
       "                                                  payload   type\n",
       "0       /l_t@/_feu1wvhtpass2/1nieqnnrvnzktuasain/tg1ar...  valid\n",
       "1       crteyreti=wsn&et3tf6shov=tdsviee y fum$oh3;ore...  valid\n",
       "2                                          lnujse/3.5.6.9  valid\n",
       "3                apnalto-md;q=0.6, asdn-ee, eai-5ns;q=0.0  valid\n",
       "4                                          compress;q=0.1  valid\n",
       "...                                                   ...    ...\n",
       "219035  eita7=8722556;l7js=twuptboy;3aotthg9r=62 or rh...  other\n",
       "219036  kuts=nle;zdfhsre=xrzoi' or 1< n/taaart/o/child...  other\n",
       "219037  nd9a=8 or 1< e8kil/nhea/ar/child::text()[posit...  other\n",
       "219038  elsmaem=(i < count(ae/child::text()) and j < c...  other\n",
       "219039  dode6uqh=7r' or count( path/child::node()[posi...  other\n",
       "\n",
       "[219040 rows x 2 columns]"
      ]
     },
     "execution_count": 3,
     "metadata": {},
     "output_type": "execute_result"
    }
   ],
   "source": [
    "ECML"
   ]
  },
  {
   "cell_type": "code",
   "execution_count": 4,
   "metadata": {},
   "outputs": [
    {
     "name": "stderr",
     "output_type": "stream",
     "text": [
      "<ipython-input-4-972c70a7e1c2>:1: FutureWarning: Starting with Pandas version 2.0 all arguments of read_json except for the argument 'path_or_buf' will be keyword-only\n",
      "  HTTP = pd.read_json('..\\BuiltDataset\\HTTPDataSet_Standard.json','records')\n"
     ]
    }
   ],
   "source": [
    "HTTP = pd.read_json('..\\BuiltDataset\\HTTPDataSet_Standard.json','records')"
   ]
  },
  {
   "cell_type": "code",
   "execution_count": 5,
   "metadata": {},
   "outputs": [
    {
     "data": {
      "text/html": [
       "<div>\n",
       "<style scoped>\n",
       "    .dataframe tbody tr th:only-of-type {\n",
       "        vertical-align: middle;\n",
       "    }\n",
       "\n",
       "    .dataframe tbody tr th {\n",
       "        vertical-align: top;\n",
       "    }\n",
       "\n",
       "    .dataframe thead th {\n",
       "        text-align: right;\n",
       "    }\n",
       "</style>\n",
       "<table border=\"1\" class=\"dataframe\">\n",
       "  <thead>\n",
       "    <tr style=\"text-align: right;\">\n",
       "      <th></th>\n",
       "      <th>payload</th>\n",
       "      <th>type</th>\n",
       "    </tr>\n",
       "  </thead>\n",
       "  <tbody>\n",
       "    <tr>\n",
       "      <th>0</th>\n",
       "      <td>c/ caridad s/n</td>\n",
       "      <td>valid</td>\n",
       "    </tr>\n",
       "    <tr>\n",
       "      <th>1</th>\n",
       "      <td>campello, el</td>\n",
       "      <td>valid</td>\n",
       "    </tr>\n",
       "    <tr>\n",
       "      <th>2</th>\n",
       "      <td>40184</td>\n",
       "      <td>valid</td>\n",
       "    </tr>\n",
       "    <tr>\n",
       "      <th>3</th>\n",
       "      <td>1442431887503330</td>\n",
       "      <td>valid</td>\n",
       "    </tr>\n",
       "    <tr>\n",
       "      <th>4</th>\n",
       "      <td>nue37</td>\n",
       "      <td>valid</td>\n",
       "    </tr>\n",
       "    <tr>\n",
       "      <th>...</th>\n",
       "      <td>...</td>\n",
       "      <td>...</td>\n",
       "    </tr>\n",
       "    <tr>\n",
       "      <th>31062</th>\n",
       "      <td>&lt;script a=\"&gt;\" id=xss src=\"http://ha.ckers.org/...</td>\n",
       "      <td>xss</td>\n",
       "    </tr>\n",
       "    <tr>\n",
       "      <th>31063</th>\n",
       "      <td>&lt;script a=\"&gt;\" '' id=xss src=\"http://ha.ckers.o...</td>\n",
       "      <td>xss</td>\n",
       "    </tr>\n",
       "    <tr>\n",
       "      <th>31064</th>\n",
       "      <td>&lt;script \"a='&gt;'\" id=xss src=\"http://ha.ckers.or...</td>\n",
       "      <td>xss</td>\n",
       "    </tr>\n",
       "    <tr>\n",
       "      <th>31065</th>\n",
       "      <td>&lt;script a=`&gt;` id=xss src=\"http://ha.ckers.org/...</td>\n",
       "      <td>xss</td>\n",
       "    </tr>\n",
       "    <tr>\n",
       "      <th>31066</th>\n",
       "      <td>&lt;script&gt;document.write(\"&lt;scri\");&lt;/script&gt;pt id...</td>\n",
       "      <td>xss</td>\n",
       "    </tr>\n",
       "  </tbody>\n",
       "</table>\n",
       "<p>31067 rows × 2 columns</p>\n",
       "</div>"
      ],
      "text/plain": [
       "                                                 payload   type\n",
       "0                                         c/ caridad s/n  valid\n",
       "1                                           campello, el  valid\n",
       "2                                                  40184  valid\n",
       "3                                       1442431887503330  valid\n",
       "4                                                  nue37  valid\n",
       "...                                                  ...    ...\n",
       "31062  <script a=\">\" id=xss src=\"http://ha.ckers.org/...    xss\n",
       "31063  <script a=\">\" '' id=xss src=\"http://ha.ckers.o...    xss\n",
       "31064  <script \"a='>'\" id=xss src=\"http://ha.ckers.or...    xss\n",
       "31065  <script a=`>` id=xss src=\"http://ha.ckers.org/...    xss\n",
       "31066  <script>document.write(\"<scri\");</script>pt id...    xss\n",
       "\n",
       "[31067 rows x 2 columns]"
      ]
     },
     "execution_count": 5,
     "metadata": {},
     "output_type": "execute_result"
    }
   ],
   "source": [
    "HTTP"
   ]
  },
  {
   "cell_type": "code",
   "execution_count": 6,
   "metadata": {},
   "outputs": [
    {
     "name": "stderr",
     "output_type": "stream",
     "text": [
      "<ipython-input-6-821f2578d9c9>:1: FutureWarning: Starting with Pandas version 2.0 all arguments of read_json except for the argument 'path_or_buf' will be keyword-only\n",
      "  XSS = pd.read_json('..\\BuiltDataset\\XSSDataSet_Standard.json','records')\n"
     ]
    }
   ],
   "source": [
    "XSS = pd.read_json('..\\BuiltDataset\\XSSDataSet_Standard.json','records')"
   ]
  },
  {
   "cell_type": "code",
   "execution_count": 7,
   "metadata": {},
   "outputs": [
    {
     "data": {
      "text/html": [
       "<div>\n",
       "<style scoped>\n",
       "    .dataframe tbody tr th:only-of-type {\n",
       "        vertical-align: middle;\n",
       "    }\n",
       "\n",
       "    .dataframe tbody tr th {\n",
       "        vertical-align: top;\n",
       "    }\n",
       "\n",
       "    .dataframe thead th {\n",
       "        text-align: right;\n",
       "    }\n",
       "</style>\n",
       "<table border=\"1\" class=\"dataframe\">\n",
       "  <thead>\n",
       "    <tr style=\"text-align: right;\">\n",
       "      <th></th>\n",
       "      <th>payload</th>\n",
       "      <th>type</th>\n",
       "    </tr>\n",
       "  </thead>\n",
       "  <tbody>\n",
       "    <tr>\n",
       "      <th>0</th>\n",
       "      <td>&lt;li&gt;&lt;a href=\"/wiki/file:socrates.png\" class=\"i...</td>\n",
       "      <td>xss</td>\n",
       "    </tr>\n",
       "    <tr>\n",
       "      <th>1</th>\n",
       "      <td>&lt;tt onmouseover=\"alert(1)\"&gt;test&lt;/tt&gt;</td>\n",
       "      <td>xss</td>\n",
       "    </tr>\n",
       "    <tr>\n",
       "      <th>2</th>\n",
       "      <td>&lt;/span&gt; &lt;span class=\"reference-text\"&gt;steering ...</td>\n",
       "      <td>xss</td>\n",
       "    </tr>\n",
       "    <tr>\n",
       "      <th>3</th>\n",
       "      <td>&lt;/span&gt; &lt;span class=\"reference-text\"&gt;&lt;cite cla...</td>\n",
       "      <td>xss</td>\n",
       "    </tr>\n",
       "    <tr>\n",
       "      <th>4</th>\n",
       "      <td>&lt;/span&gt;. &lt;a href=\"/wiki/digital_object_identif...</td>\n",
       "      <td>xss</td>\n",
       "    </tr>\n",
       "    <tr>\n",
       "      <th>...</th>\n",
       "      <td>...</td>\n",
       "      <td>...</td>\n",
       "    </tr>\n",
       "    <tr>\n",
       "      <th>13681</th>\n",
       "      <td>&lt;img onpointerenter=alert(1)&gt;xss&lt;/img&gt;</td>\n",
       "      <td>xss</td>\n",
       "    </tr>\n",
       "    <tr>\n",
       "      <th>13682</th>\n",
       "      <td>&lt;source onbeforepaste=\"alert(1)\" contenteditab...</td>\n",
       "      <td>xss</td>\n",
       "    </tr>\n",
       "    <tr>\n",
       "      <th>13683</th>\n",
       "      <td>&lt;div draggable=\"true\" contenteditable&gt;drag me&lt;...</td>\n",
       "      <td>xss</td>\n",
       "    </tr>\n",
       "    <tr>\n",
       "      <th>13684</th>\n",
       "      <td>&lt;li&gt;&lt;cite id=\"citerefdomingos2015\" class=\"cita...</td>\n",
       "      <td>xss</td>\n",
       "    </tr>\n",
       "    <tr>\n",
       "      <th>13685</th>\n",
       "      <td>&lt;/span&gt;</td>\n",
       "      <td>xss</td>\n",
       "    </tr>\n",
       "  </tbody>\n",
       "</table>\n",
       "<p>13686 rows × 2 columns</p>\n",
       "</div>"
      ],
      "text/plain": [
       "                                                 payload type\n",
       "0      <li><a href=\"/wiki/file:socrates.png\" class=\"i...  xss\n",
       "1                   <tt onmouseover=\"alert(1)\">test</tt>  xss\n",
       "2      </span> <span class=\"reference-text\">steering ...  xss\n",
       "3      </span> <span class=\"reference-text\"><cite cla...  xss\n",
       "4      </span>. <a href=\"/wiki/digital_object_identif...  xss\n",
       "...                                                  ...  ...\n",
       "13681             <img onpointerenter=alert(1)>xss</img>  xss\n",
       "13682  <source onbeforepaste=\"alert(1)\" contenteditab...  xss\n",
       "13683  <div draggable=\"true\" contenteditable>drag me<...  xss\n",
       "13684  <li><cite id=\"citerefdomingos2015\" class=\"cita...  xss\n",
       "13685                                            </span>  xss\n",
       "\n",
       "[13686 rows x 2 columns]"
      ]
     },
     "execution_count": 7,
     "metadata": {},
     "output_type": "execute_result"
    }
   ],
   "source": [
    "XSS"
   ]
  },
  {
   "cell_type": "code",
   "execution_count": 8,
   "metadata": {},
   "outputs": [],
   "source": [
    "Data = pd.concat([ECML,HTTP,XSS])\n",
    "Data = Data[~Data['type'].isin(['other'])]"
   ]
  },
  {
   "cell_type": "code",
   "execution_count": 9,
   "metadata": {},
   "outputs": [
    {
     "data": {
      "text/html": [
       "<div>\n",
       "<style scoped>\n",
       "    .dataframe tbody tr th:only-of-type {\n",
       "        vertical-align: middle;\n",
       "    }\n",
       "\n",
       "    .dataframe tbody tr th {\n",
       "        vertical-align: top;\n",
       "    }\n",
       "\n",
       "    .dataframe thead th {\n",
       "        text-align: right;\n",
       "    }\n",
       "</style>\n",
       "<table border=\"1\" class=\"dataframe\">\n",
       "  <thead>\n",
       "    <tr style=\"text-align: right;\">\n",
       "      <th></th>\n",
       "      <th>payload</th>\n",
       "      <th>type</th>\n",
       "    </tr>\n",
       "  </thead>\n",
       "  <tbody>\n",
       "    <tr>\n",
       "      <th>0</th>\n",
       "      <td>/l_t@/_feu1wvhtpass2/1nieqnnrvnzktuasain/tg1ar...</td>\n",
       "      <td>valid</td>\n",
       "    </tr>\n",
       "    <tr>\n",
       "      <th>1</th>\n",
       "      <td>crteyreti=wsn&amp;et3tf6shov=tdsviee y fum$oh3;ore...</td>\n",
       "      <td>valid</td>\n",
       "    </tr>\n",
       "    <tr>\n",
       "      <th>2</th>\n",
       "      <td>lnujse/3.5.6.9</td>\n",
       "      <td>valid</td>\n",
       "    </tr>\n",
       "    <tr>\n",
       "      <th>3</th>\n",
       "      <td>apnalto-md;q=0.6, asdn-ee, eai-5ns;q=0.0</td>\n",
       "      <td>valid</td>\n",
       "    </tr>\n",
       "    <tr>\n",
       "      <th>4</th>\n",
       "      <td>compress;q=0.1</td>\n",
       "      <td>valid</td>\n",
       "    </tr>\n",
       "    <tr>\n",
       "      <th>...</th>\n",
       "      <td>...</td>\n",
       "      <td>...</td>\n",
       "    </tr>\n",
       "    <tr>\n",
       "      <th>13681</th>\n",
       "      <td>&lt;img onpointerenter=alert(1)&gt;xss&lt;/img&gt;</td>\n",
       "      <td>xss</td>\n",
       "    </tr>\n",
       "    <tr>\n",
       "      <th>13682</th>\n",
       "      <td>&lt;source onbeforepaste=\"alert(1)\" contenteditab...</td>\n",
       "      <td>xss</td>\n",
       "    </tr>\n",
       "    <tr>\n",
       "      <th>13683</th>\n",
       "      <td>&lt;div draggable=\"true\" contenteditable&gt;drag me&lt;...</td>\n",
       "      <td>xss</td>\n",
       "    </tr>\n",
       "    <tr>\n",
       "      <th>13684</th>\n",
       "      <td>&lt;li&gt;&lt;cite id=\"citerefdomingos2015\" class=\"cita...</td>\n",
       "      <td>xss</td>\n",
       "    </tr>\n",
       "    <tr>\n",
       "      <th>13685</th>\n",
       "      <td>&lt;/span&gt;</td>\n",
       "      <td>xss</td>\n",
       "    </tr>\n",
       "  </tbody>\n",
       "</table>\n",
       "<p>259177 rows × 2 columns</p>\n",
       "</div>"
      ],
      "text/plain": [
       "                                                 payload   type\n",
       "0      /l_t@/_feu1wvhtpass2/1nieqnnrvnzktuasain/tg1ar...  valid\n",
       "1      crteyreti=wsn&et3tf6shov=tdsviee y fum$oh3;ore...  valid\n",
       "2                                         lnujse/3.5.6.9  valid\n",
       "3               apnalto-md;q=0.6, asdn-ee, eai-5ns;q=0.0  valid\n",
       "4                                         compress;q=0.1  valid\n",
       "...                                                  ...    ...\n",
       "13681             <img onpointerenter=alert(1)>xss</img>    xss\n",
       "13682  <source onbeforepaste=\"alert(1)\" contenteditab...    xss\n",
       "13683  <div draggable=\"true\" contenteditable>drag me<...    xss\n",
       "13684  <li><cite id=\"citerefdomingos2015\" class=\"cita...    xss\n",
       "13685                                            </span>    xss\n",
       "\n",
       "[259177 rows x 2 columns]"
      ]
     },
     "execution_count": 9,
     "metadata": {},
     "output_type": "execute_result"
    }
   ],
   "source": [
    "Data"
   ]
  },
  {
   "cell_type": "code",
   "execution_count": 10,
   "metadata": {},
   "outputs": [],
   "source": [
    "counts = Data['type'].value_counts()"
   ]
  },
  {
   "cell_type": "code",
   "execution_count": 11,
   "metadata": {},
   "outputs": [],
   "source": [
    "import matplotlib.pyplot as plt"
   ]
  },
  {
   "cell_type": "code",
   "execution_count": 12,
   "metadata": {},
   "outputs": [
    {
     "data": {
      "text/plain": [
       "<AxesSubplot:ylabel='type'>"
      ]
     },
     "execution_count": 12,
     "metadata": {},
     "output_type": "execute_result"
    },
    {
     "data": {
      "image/png": "[encoded data removed]",
      "text/plain": [
       "<Figure size 360x360 with 1 Axes>"
      ]
     },
     "metadata": {},
     "output_type": "display_data"
    }
   ],
   "source": [
    "counts.plot.pie(figsize=(5, 5))"
   ]
  },
  {
   "cell_type": "code",
   "execution_count": 13,
   "metadata": {},
   "outputs": [],
   "source": [
    "import numpy as np\n",
    "X = Data['payload'].to_numpy().astype(str)\n",
    "Y = Data['type'].to_numpy().astype(str)"
   ]
  },
  {
   "cell_type": "code",
   "execution_count": 14,
   "metadata": {},
   "outputs": [
    {
     "name": "stdout",
     "output_type": "stream",
     "text": [
      "259177\n",
      "259177\n"
     ]
    }
   ],
   "source": [
    "print(len(X))\n",
    "print(len(Y))"
   ]
  },
  {
   "cell_type": "code",
   "execution_count": 15,
   "metadata": {},
   "outputs": [],
   "source": [
    "from sklearn.feature_extraction.text import TfidfVectorizer\n",
    "from sklearn.svm import SVC\n",
    "from sklearn.pipeline import make_pipeline\n",
    "from sklearn.model_selection import GridSearchCV, train_test_split"
   ]
  },
  {
   "cell_type": "code",
   "execution_count": 16,
   "metadata": {},
   "outputs": [],
   "source": [
    "trainX, testX, trainY, testY = train_test_split(X, Y, test_size = 0.2, random_state = 1, stratify = Y)\n",
    "\n",
    "np.savez('dataset', trainX=trainX, testX=testX, trainY=trainY, testY=testY)"
   ]
  },
  {
   "cell_type": "code",
   "execution_count": 17,
   "metadata": {
    "scrolled": true
   },
   "outputs": [
    {
     "name": "stdout",
     "output_type": "stream",
     "text": [
      "Fitting 2 folds for each of 12 candidates, totalling 24 fits\n",
      "[CV] svc__C=1, svc__kernel=linear, tfidfvectorizer__ngram_range=(1, 1) \n"
     ]
    },
    {
     "name": "stderr",
     "output_type": "stream",
     "text": [
      "[Parallel(n_jobs=1)]: Using backend SequentialBackend with 1 concurrent workers.\n"
     ]
    },
    {
     "name": "stdout",
     "output_type": "stream",
     "text": [
      "[CV]  svc__C=1, svc__kernel=linear, tfidfvectorizer__ngram_range=(1, 1), score=0.985, total= 2.7min\n",
      "[CV] svc__C=1, svc__kernel=linear, tfidfvectorizer__ngram_range=(1, 1) \n"
     ]
    },
    {
     "name": "stderr",
     "output_type": "stream",
     "text": [
      "[Parallel(n_jobs=1)]: Done   1 out of   1 | elapsed:  2.7min remaining:    0.0s\n"
     ]
    },
    {
     "name": "stdout",
     "output_type": "stream",
     "text": [
      "[CV]  svc__C=1, svc__kernel=linear, tfidfvectorizer__ngram_range=(1, 1), score=0.985, total= 2.6min\n",
      "[CV] svc__C=1, svc__kernel=linear, tfidfvectorizer__ngram_range=(1, 2) \n"
     ]
    },
    {
     "name": "stderr",
     "output_type": "stream",
     "text": [
      "[Parallel(n_jobs=1)]: Done   2 out of   2 | elapsed:  5.3min remaining:    0.0s\n"
     ]
    },
    {
     "name": "stdout",
     "output_type": "stream",
     "text": [
      "[CV]  svc__C=1, svc__kernel=linear, tfidfvectorizer__ngram_range=(1, 2), score=0.990, total= 7.9min\n",
      "[CV] svc__C=1, svc__kernel=linear, tfidfvectorizer__ngram_range=(1, 2) \n"
     ]
    },
    {
     "name": "stderr",
     "output_type": "stream",
     "text": [
      "[Parallel(n_jobs=1)]: Done   3 out of   3 | elapsed: 13.2min remaining:    0.0s\n"
     ]
    },
    {
     "name": "stdout",
     "output_type": "stream",
     "text": [
      "[CV]  svc__C=1, svc__kernel=linear, tfidfvectorizer__ngram_range=(1, 2), score=0.989, total= 9.9min\n",
      "[CV] svc__C=1, svc__kernel=linear, tfidfvectorizer__ngram_range=(1, 4) \n"
     ]
    },
    {
     "name": "stderr",
     "output_type": "stream",
     "text": [
      "[Parallel(n_jobs=1)]: Done   4 out of   4 | elapsed: 23.1min remaining:    0.0s\n"
     ]
    },
    {
     "name": "stdout",
     "output_type": "stream",
     "text": [
      "[CV]  svc__C=1, svc__kernel=linear, tfidfvectorizer__ngram_range=(1, 4), score=0.990, total=11.1min\n"
     ]
    },
    {
     "name": "stderr",
     "output_type": "stream",
     "text": [
      "[Parallel(n_jobs=1)]: Done   5 out of   5 | elapsed: 34.2min remaining:    0.0s\n"
     ]
    },
    {
     "name": "stdout",
     "output_type": "stream",
     "text": [
      "[CV] svc__C=1, svc__kernel=linear, tfidfvectorizer__ngram_range=(1, 4) \n",
      "[CV]  svc__C=1, svc__kernel=linear, tfidfvectorizer__ngram_range=(1, 4), score=0.990, total= 9.8min\n"
     ]
    },
    {
     "name": "stderr",
     "output_type": "stream",
     "text": [
      "[Parallel(n_jobs=1)]: Done   6 out of   6 | elapsed: 44.0min remaining:    0.0s\n"
     ]
    },
    {
     "name": "stdout",
     "output_type": "stream",
     "text": [
      "[CV] svc__C=1, svc__kernel=rbf, tfidfvectorizer__ngram_range=(1, 1) ..\n",
      "[CV]  svc__C=1, svc__kernel=rbf, tfidfvectorizer__ngram_range=(1, 1), score=0.993, total= 4.7min\n",
      "[CV] svc__C=1, svc__kernel=rbf, tfidfvectorizer__ngram_range=(1, 1) ..\n"
     ]
    },
    {
     "name": "stderr",
     "output_type": "stream",
     "text": [
      "[Parallel(n_jobs=1)]: Done   7 out of   7 | elapsed: 48.7min remaining:    0.0s\n"
     ]
    },
    {
     "name": "stdout",
     "output_type": "stream",
     "text": [
      "[CV]  svc__C=1, svc__kernel=rbf, tfidfvectorizer__ngram_range=(1, 1), score=0.993, total= 4.6min\n",
      "[CV] svc__C=1, svc__kernel=rbf, tfidfvectorizer__ngram_range=(1, 2) ..\n"
     ]
    },
    {
     "name": "stderr",
     "output_type": "stream",
     "text": [
      "[Parallel(n_jobs=1)]: Done   8 out of   8 | elapsed: 53.3min remaining:    0.0s\n"
     ]
    },
    {
     "name": "stdout",
     "output_type": "stream",
     "text": [
      "[CV]  svc__C=1, svc__kernel=rbf, tfidfvectorizer__ngram_range=(1, 2), score=0.995, total=11.9min\n",
      "[CV] svc__C=1, svc__kernel=rbf, tfidfvectorizer__ngram_range=(1, 2) ..\n"
     ]
    },
    {
     "name": "stderr",
     "output_type": "stream",
     "text": [
      "[Parallel(n_jobs=1)]: Done   9 out of   9 | elapsed: 65.2min remaining:    0.0s\n"
     ]
    },
    {
     "name": "stdout",
     "output_type": "stream",
     "text": [
      "[CV]  svc__C=1, svc__kernel=rbf, tfidfvectorizer__ngram_range=(1, 2), score=0.994, total=12.9min\n",
      "[CV] svc__C=1, svc__kernel=rbf, tfidfvectorizer__ngram_range=(1, 4) ..\n",
      "[CV]  svc__C=1, svc__kernel=rbf, tfidfvectorizer__ngram_range=(1, 4), score=0.994, total=14.0min\n",
      "[CV] svc__C=1, svc__kernel=rbf, tfidfvectorizer__ngram_range=(1, 4) ..\n",
      "[CV]  svc__C=1, svc__kernel=rbf, tfidfvectorizer__ngram_range=(1, 4), score=0.994, total=13.3min\n",
      "[CV] svc__C=10, svc__kernel=linear, tfidfvectorizer__ngram_range=(1, 1) \n",
      "[CV]  svc__C=10, svc__kernel=linear, tfidfvectorizer__ngram_range=(1, 1), score=0.987, total= 4.1min\n",
      "[CV] svc__C=10, svc__kernel=linear, tfidfvectorizer__ngram_range=(1, 1) \n",
      "[CV]  svc__C=10, svc__kernel=linear, tfidfvectorizer__ngram_range=(1, 1), score=0.987, total= 3.7min\n",
      "[CV] svc__C=10, svc__kernel=linear, tfidfvectorizer__ngram_range=(1, 2) \n",
      "[CV]  svc__C=10, svc__kernel=linear, tfidfvectorizer__ngram_range=(1, 2), score=0.992, total= 6.3min\n",
      "[CV] svc__C=10, svc__kernel=linear, tfidfvectorizer__ngram_range=(1, 2) \n",
      "[CV]  svc__C=10, svc__kernel=linear, tfidfvectorizer__ngram_range=(1, 2), score=0.992, total= 7.2min\n",
      "[CV] svc__C=10, svc__kernel=linear, tfidfvectorizer__ngram_range=(1, 4) \n",
      "[CV]  svc__C=10, svc__kernel=linear, tfidfvectorizer__ngram_range=(1, 4), score=0.992, total= 7.3min\n",
      "[CV] svc__C=10, svc__kernel=linear, tfidfvectorizer__ngram_range=(1, 4) \n",
      "[CV]  svc__C=10, svc__kernel=linear, tfidfvectorizer__ngram_range=(1, 4), score=0.992, total= 8.5min\n",
      "[CV] svc__C=10, svc__kernel=rbf, tfidfvectorizer__ngram_range=(1, 1) .\n",
      "[CV]  svc__C=10, svc__kernel=rbf, tfidfvectorizer__ngram_range=(1, 1), score=0.994, total= 4.4min\n",
      "[CV] svc__C=10, svc__kernel=rbf, tfidfvectorizer__ngram_range=(1, 1) .\n",
      "[CV]  svc__C=10, svc__kernel=rbf, tfidfvectorizer__ngram_range=(1, 1), score=0.995, total= 4.4min\n",
      "[CV] svc__C=10, svc__kernel=rbf, tfidfvectorizer__ngram_range=(1, 2) .\n",
      "[CV]  svc__C=10, svc__kernel=rbf, tfidfvectorizer__ngram_range=(1, 2), score=0.996, total=15.5min\n",
      "[CV] svc__C=10, svc__kernel=rbf, tfidfvectorizer__ngram_range=(1, 2) .\n",
      "[CV]  svc__C=10, svc__kernel=rbf, tfidfvectorizer__ngram_range=(1, 2), score=0.995, total=16.2min\n",
      "[CV] svc__C=10, svc__kernel=rbf, tfidfvectorizer__ngram_range=(1, 4) .\n",
      "[CV]  svc__C=10, svc__kernel=rbf, tfidfvectorizer__ngram_range=(1, 4), score=0.995, total=16.8min\n",
      "[CV] svc__C=10, svc__kernel=rbf, tfidfvectorizer__ngram_range=(1, 4) .\n",
      "[CV]  svc__C=10, svc__kernel=rbf, tfidfvectorizer__ngram_range=(1, 4), score=0.995, total=14.2min\n"
     ]
    },
    {
     "name": "stderr",
     "output_type": "stream",
     "text": [
      "[Parallel(n_jobs=1)]: Done  24 out of  24 | elapsed: 214.3min finished\n"
     ]
    },
    {
     "data": {
      "text/plain": [
       "GridSearchCV(cv=2,\n",
       "             estimator=Pipeline(steps=[('tfidfvectorizer',\n",
       "                                        TfidfVectorizer(analyzer='char',\n",
       "                                                        max_features=256)),\n",
       "                                       ('svc', SVC())]),\n",
       "             param_grid={'svc__C': [1, 10], 'svc__kernel': ['linear', 'rbf'],\n",
       "                         'tfidfvectorizer__ngram_range': [(1, 1), (1, 2),\n",
       "                                                          (1, 4)]},\n",
       "             verbose=10)"
      ]
     },
     "execution_count": 17,
     "metadata": {},
     "output_type": "execute_result"
    }
   ],
   "source": [
    "pipe = make_pipeline(TfidfVectorizer(input = 'content', lowercase = True, analyzer = 'char', max_features = 256), SVC())\n",
    "\n",
    "param_grid = {'tfidfvectorizer__ngram_range': [(1, 1), (1, 2), (1, 4)], 'svc__C': [1, 10], 'svc__kernel': ['linear', 'rbf']}\n",
    "\n",
    "grid = GridSearchCV(pipe, param_grid, cv = 2, verbose = 10)\n",
    "\n",
    "grid.fit(trainX, trainY)"
   ]
  },
  {
   "cell_type": "code",
   "execution_count": 18,
   "metadata": {},
   "outputs": [
    {
     "data": {
      "text/plain": [
       "0.9959101782544949"
      ]
     },
     "execution_count": 18,
     "metadata": {},
     "output_type": "execute_result"
    }
   ],
   "source": [
    "grid.score(testX,testY)"
   ]
  },
  {
   "cell_type": "code",
   "execution_count": 19,
   "metadata": {},
   "outputs": [
    {
     "data": {
      "text/plain": [
       "{'svc__C': 10, 'svc__kernel': 'rbf', 'tfidfvectorizer__ngram_range': (1, 2)}"
      ]
     },
     "execution_count": 19,
     "metadata": {},
     "output_type": "execute_result"
    }
   ],
   "source": [
    "grid.best_params_"
   ]
  },
  {
   "cell_type": "code",
   "execution_count": 20,
   "metadata": {},
   "outputs": [
    {
     "data": {
      "text/plain": [
       "Pipeline(steps=[('tfidfvectorizer',\n",
       "                 TfidfVectorizer(analyzer='char', max_features=256,\n",
       "                                 ngram_range=(1, 2))),\n",
       "                ('svc', SVC(C=10))])"
      ]
     },
     "execution_count": 20,
     "metadata": {},
     "output_type": "execute_result"
    }
   ],
   "source": [
    "pipe = make_pipeline(TfidfVectorizer(input = 'content', lowercase = True, analyzer = 'char', max_features = 256, ngram_range = (1, 2)), SVC(C = 10, kernel = 'rbf'))\n",
    "\n",
    "pipe.fit(trainX, trainY)"
   ]
  },
  {
   "cell_type": "code",
   "execution_count": 21,
   "metadata": {},
   "outputs": [
    {
     "data": {
      "text/plain": [
       "0.9959101782544949"
      ]
     },
     "execution_count": 21,
     "metadata": {},
     "output_type": "execute_result"
    }
   ],
   "source": [
    "pipe.score(testX, testY)"
   ]
  },
  {
   "cell_type": "code",
   "execution_count": 23,
   "metadata": {},
   "outputs": [
    {
     "name": "stdout",
     "output_type": "stream",
     "text": [
      "                precision    recall  f1-score   support\n",
      "\n",
      "          cmdi       0.96      0.94      0.95       692\n",
      "path-traversal       0.97      0.91      0.94       657\n",
      "          sqli       0.99      0.98      0.99      2631\n",
      "         valid       1.00      1.00      1.00     44647\n",
      "           xss       1.00      0.99      0.99      3209\n",
      "\n",
      "      accuracy                           1.00     51836\n",
      "     macro avg       0.98      0.96      0.97     51836\n",
      "  weighted avg       1.00      1.00      1.00     51836\n",
      "\n"
     ]
    }
   ],
   "source": [
    "from sklearn.metrics import classification_report\n",
    "\n",
    "Prediction = pipe.predict(testX)\n",
    "\n",
    "print(classification_report(testY, Prediction))"
   ]
  },
  {
   "cell_type": "code",
   "execution_count": 24,
   "metadata": {},
   "outputs": [
    {
     "data": {
      "text/plain": [
       "['TF-IDF_SVM_V1.1.m']"
      ]
     },
     "execution_count": 24,
     "metadata": {},
     "output_type": "execute_result"
    }
   ],
   "source": [
    "import joblib\n",
    "\n",
    "joblib.dump(pipe, 'TF-IDF_SVM_V1.1.joblib')\n",
    "joblib.dump(pipe, 'TF-IDF_SVM_V1.1.m')"
   ]
  },
  {
   "cell_type": "code",
   "execution_count": 1,
   "metadata": {
    "scrolled": true
   },
   "outputs": [
    {
     "name": "stdout",
     "output_type": "stream",
     "text": [
      "3.8.5 (default, Sep  3 2020, 21:29:08) [MSC v.1916 64 bit (AMD64)]\n",
      "E:\\Anaconda3\\python.exe\n"
     ]
    }
   ],
   "source": [
    "import sys\n",
    "\n",
    "print(sys.version)\n",
    "\n",
    "print(sys.executable)"
   ]
  },
  {
   "cell_type": "code",
   "execution_count": null,
   "metadata": {},
   "outputs": [],
   "source": []
  }
 ],
 "metadata": {
  "kernelspec": {
   "display_name": "Python 3",
   "language": "python",
   "name": "python3"
  },
  "language_info": {
   "codemirror_mode": {
    "name": "ipython",
    "version": 3
   },
   "file_extension": ".py",
   "mimetype": "text/x-python",
   "name": "python",
   "nbconvert_exporter": "python",
   "pygments_lexer": "ipython3",
   "version": "3.8.5"
  }
 },
 "nbformat": 4,
 "nbformat_minor": 4
}
