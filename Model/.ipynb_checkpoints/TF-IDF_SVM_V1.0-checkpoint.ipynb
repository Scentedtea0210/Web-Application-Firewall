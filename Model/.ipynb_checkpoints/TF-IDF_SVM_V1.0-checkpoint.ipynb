{
 "cells": [
  {
   "cell_type": "code",
   "execution_count": 1,
   "metadata": {},
   "outputs": [],
   "source": [
    "import pandas as pd"
   ]
  },
  {
   "cell_type": "code",
   "execution_count": 2,
   "metadata": {},
   "outputs": [
    {
     "name": "stderr",
     "output_type": "stream",
     "text": [
      "<ipython-input-2-972c70a7e1c2>:1: FutureWarning: Starting with Pandas version 2.0 all arguments of read_json except for the argument 'path_or_buf' will be keyword-only\n",
      "  HTTP = pd.read_json('..\\BuiltDataset\\HTTPDataSet_Standard.json','records')\n"
     ]
    }
   ],
   "source": [
    "HTTP = pd.read_json('..\\BuiltDataset\\HTTPDataSet_Standard.json','records')"
   ]
  },
  {
   "cell_type": "code",
   "execution_count": 3,
   "metadata": {},
   "outputs": [
    {
     "data": {
      "text/html": [
       "<div>\n",
       "<style scoped>\n",
       "    .dataframe tbody tr th:only-of-type {\n",
       "        vertical-align: middle;\n",
       "    }\n",
       "\n",
       "    .dataframe tbody tr th {\n",
       "        vertical-align: top;\n",
       "    }\n",
       "\n",
       "    .dataframe thead th {\n",
       "        text-align: right;\n",
       "    }\n",
       "</style>\n",
       "<table border=\"1\" class=\"dataframe\">\n",
       "  <thead>\n",
       "    <tr style=\"text-align: right;\">\n",
       "      <th></th>\n",
       "      <th>payload</th>\n",
       "      <th>type</th>\n",
       "    </tr>\n",
       "  </thead>\n",
       "  <tbody>\n",
       "    <tr>\n",
       "      <th>0</th>\n",
       "      <td>c/ caridad s/n</td>\n",
       "      <td>valid</td>\n",
       "    </tr>\n",
       "    <tr>\n",
       "      <th>1</th>\n",
       "      <td>campello, el</td>\n",
       "      <td>valid</td>\n",
       "    </tr>\n",
       "    <tr>\n",
       "      <th>2</th>\n",
       "      <td>40184</td>\n",
       "      <td>valid</td>\n",
       "    </tr>\n",
       "    <tr>\n",
       "      <th>3</th>\n",
       "      <td>1442431887503330</td>\n",
       "      <td>valid</td>\n",
       "    </tr>\n",
       "    <tr>\n",
       "      <th>4</th>\n",
       "      <td>nue37</td>\n",
       "      <td>valid</td>\n",
       "    </tr>\n",
       "    <tr>\n",
       "      <th>...</th>\n",
       "      <td>...</td>\n",
       "      <td>...</td>\n",
       "    </tr>\n",
       "    <tr>\n",
       "      <th>31062</th>\n",
       "      <td>&lt;script a=\"&gt;\" id=xss src=\"http://ha.ckers.org/...</td>\n",
       "      <td>xss</td>\n",
       "    </tr>\n",
       "    <tr>\n",
       "      <th>31063</th>\n",
       "      <td>&lt;script a=\"&gt;\" '' id=xss src=\"http://ha.ckers.o...</td>\n",
       "      <td>xss</td>\n",
       "    </tr>\n",
       "    <tr>\n",
       "      <th>31064</th>\n",
       "      <td>&lt;script \"a='&gt;'\" id=xss src=\"http://ha.ckers.or...</td>\n",
       "      <td>xss</td>\n",
       "    </tr>\n",
       "    <tr>\n",
       "      <th>31065</th>\n",
       "      <td>&lt;script a=`&gt;` id=xss src=\"http://ha.ckers.org/...</td>\n",
       "      <td>xss</td>\n",
       "    </tr>\n",
       "    <tr>\n",
       "      <th>31066</th>\n",
       "      <td>&lt;script&gt;document.write(\"&lt;scri\");&lt;/script&gt;pt id...</td>\n",
       "      <td>xss</td>\n",
       "    </tr>\n",
       "  </tbody>\n",
       "</table>\n",
       "<p>31067 rows × 2 columns</p>\n",
       "</div>"
      ],
      "text/plain": [
       "                                                 payload   type\n",
       "0                                         c/ caridad s/n  valid\n",
       "1                                           campello, el  valid\n",
       "2                                                  40184  valid\n",
       "3                                       1442431887503330  valid\n",
       "4                                                  nue37  valid\n",
       "...                                                  ...    ...\n",
       "31062  <script a=\">\" id=xss src=\"http://ha.ckers.org/...    xss\n",
       "31063  <script a=\">\" '' id=xss src=\"http://ha.ckers.o...    xss\n",
       "31064  <script \"a='>'\" id=xss src=\"http://ha.ckers.or...    xss\n",
       "31065  <script a=`>` id=xss src=\"http://ha.ckers.org/...    xss\n",
       "31066  <script>document.write(\"<scri\");</script>pt id...    xss\n",
       "\n",
       "[31067 rows x 2 columns]"
      ]
     },
     "execution_count": 3,
     "metadata": {},
     "output_type": "execute_result"
    }
   ],
   "source": [
    "HTTP"
   ]
  },
  {
   "cell_type": "code",
   "execution_count": 4,
   "metadata": {},
   "outputs": [
    {
     "name": "stderr",
     "output_type": "stream",
     "text": [
      "<ipython-input-4-821f2578d9c9>:1: FutureWarning: Starting with Pandas version 2.0 all arguments of read_json except for the argument 'path_or_buf' will be keyword-only\n",
      "  XSS = pd.read_json('..\\BuiltDataset\\XSSDataSet_Standard.json','records')\n"
     ]
    }
   ],
   "source": [
    "XSS = pd.read_json('..\\BuiltDataset\\XSSDataSet_Standard.json','records')"
   ]
  },
  {
   "cell_type": "code",
   "execution_count": 5,
   "metadata": {},
   "outputs": [
    {
     "data": {
      "text/html": [
       "<div>\n",
       "<style scoped>\n",
       "    .dataframe tbody tr th:only-of-type {\n",
       "        vertical-align: middle;\n",
       "    }\n",
       "\n",
       "    .dataframe tbody tr th {\n",
       "        vertical-align: top;\n",
       "    }\n",
       "\n",
       "    .dataframe thead th {\n",
       "        text-align: right;\n",
       "    }\n",
       "</style>\n",
       "<table border=\"1\" class=\"dataframe\">\n",
       "  <thead>\n",
       "    <tr style=\"text-align: right;\">\n",
       "      <th></th>\n",
       "      <th>payload</th>\n",
       "      <th>type</th>\n",
       "    </tr>\n",
       "  </thead>\n",
       "  <tbody>\n",
       "    <tr>\n",
       "      <th>0</th>\n",
       "      <td>&lt;li&gt;&lt;a href=\"/wiki/file:socrates.png\" class=\"i...</td>\n",
       "      <td>xss</td>\n",
       "    </tr>\n",
       "    <tr>\n",
       "      <th>1</th>\n",
       "      <td>&lt;tt onmouseover=\"alert(1)\"&gt;test&lt;/tt&gt;</td>\n",
       "      <td>xss</td>\n",
       "    </tr>\n",
       "    <tr>\n",
       "      <th>2</th>\n",
       "      <td>&lt;/span&gt; &lt;span class=\"reference-text\"&gt;steering ...</td>\n",
       "      <td>xss</td>\n",
       "    </tr>\n",
       "    <tr>\n",
       "      <th>3</th>\n",
       "      <td>&lt;/span&gt; &lt;span class=\"reference-text\"&gt;&lt;cite cla...</td>\n",
       "      <td>xss</td>\n",
       "    </tr>\n",
       "    <tr>\n",
       "      <th>4</th>\n",
       "      <td>&lt;/span&gt;. &lt;a href=\"/wiki/digital_object_identif...</td>\n",
       "      <td>xss</td>\n",
       "    </tr>\n",
       "    <tr>\n",
       "      <th>...</th>\n",
       "      <td>...</td>\n",
       "      <td>...</td>\n",
       "    </tr>\n",
       "    <tr>\n",
       "      <th>13681</th>\n",
       "      <td>&lt;img onpointerenter=alert(1)&gt;xss&lt;/img&gt;</td>\n",
       "      <td>xss</td>\n",
       "    </tr>\n",
       "    <tr>\n",
       "      <th>13682</th>\n",
       "      <td>&lt;source onbeforepaste=\"alert(1)\" contenteditab...</td>\n",
       "      <td>xss</td>\n",
       "    </tr>\n",
       "    <tr>\n",
       "      <th>13683</th>\n",
       "      <td>&lt;div draggable=\"true\" contenteditable&gt;drag me&lt;...</td>\n",
       "      <td>xss</td>\n",
       "    </tr>\n",
       "    <tr>\n",
       "      <th>13684</th>\n",
       "      <td>&lt;li&gt;&lt;cite id=\"citerefdomingos2015\" class=\"cita...</td>\n",
       "      <td>xss</td>\n",
       "    </tr>\n",
       "    <tr>\n",
       "      <th>13685</th>\n",
       "      <td>&lt;/span&gt;</td>\n",
       "      <td>xss</td>\n",
       "    </tr>\n",
       "  </tbody>\n",
       "</table>\n",
       "<p>13686 rows × 2 columns</p>\n",
       "</div>"
      ],
      "text/plain": [
       "                                                 payload type\n",
       "0      <li><a href=\"/wiki/file:socrates.png\" class=\"i...  xss\n",
       "1                   <tt onmouseover=\"alert(1)\">test</tt>  xss\n",
       "2      </span> <span class=\"reference-text\">steering ...  xss\n",
       "3      </span> <span class=\"reference-text\"><cite cla...  xss\n",
       "4      </span>. <a href=\"/wiki/digital_object_identif...  xss\n",
       "...                                                  ...  ...\n",
       "13681             <img onpointerenter=alert(1)>xss</img>  xss\n",
       "13682  <source onbeforepaste=\"alert(1)\" contenteditab...  xss\n",
       "13683  <div draggable=\"true\" contenteditable>drag me<...  xss\n",
       "13684  <li><cite id=\"citerefdomingos2015\" class=\"cita...  xss\n",
       "13685                                            </span>  xss\n",
       "\n",
       "[13686 rows x 2 columns]"
      ]
     },
     "execution_count": 5,
     "metadata": {},
     "output_type": "execute_result"
    }
   ],
   "source": [
    "XSS"
   ]
  },
  {
   "cell_type": "code",
   "execution_count": 6,
   "metadata": {},
   "outputs": [],
   "source": [
    "Data = pd.concat([HTTP,XSS])"
   ]
  },
  {
   "cell_type": "code",
   "execution_count": 7,
   "metadata": {},
   "outputs": [
    {
     "data": {
      "text/html": [
       "<div>\n",
       "<style scoped>\n",
       "    .dataframe tbody tr th:only-of-type {\n",
       "        vertical-align: middle;\n",
       "    }\n",
       "\n",
       "    .dataframe tbody tr th {\n",
       "        vertical-align: top;\n",
       "    }\n",
       "\n",
       "    .dataframe thead th {\n",
       "        text-align: right;\n",
       "    }\n",
       "</style>\n",
       "<table border=\"1\" class=\"dataframe\">\n",
       "  <thead>\n",
       "    <tr style=\"text-align: right;\">\n",
       "      <th></th>\n",
       "      <th>payload</th>\n",
       "      <th>type</th>\n",
       "    </tr>\n",
       "  </thead>\n",
       "  <tbody>\n",
       "    <tr>\n",
       "      <th>0</th>\n",
       "      <td>c/ caridad s/n</td>\n",
       "      <td>valid</td>\n",
       "    </tr>\n",
       "    <tr>\n",
       "      <th>1</th>\n",
       "      <td>campello, el</td>\n",
       "      <td>valid</td>\n",
       "    </tr>\n",
       "    <tr>\n",
       "      <th>2</th>\n",
       "      <td>40184</td>\n",
       "      <td>valid</td>\n",
       "    </tr>\n",
       "    <tr>\n",
       "      <th>3</th>\n",
       "      <td>1442431887503330</td>\n",
       "      <td>valid</td>\n",
       "    </tr>\n",
       "    <tr>\n",
       "      <th>4</th>\n",
       "      <td>nue37</td>\n",
       "      <td>valid</td>\n",
       "    </tr>\n",
       "    <tr>\n",
       "      <th>...</th>\n",
       "      <td>...</td>\n",
       "      <td>...</td>\n",
       "    </tr>\n",
       "    <tr>\n",
       "      <th>13681</th>\n",
       "      <td>&lt;img onpointerenter=alert(1)&gt;xss&lt;/img&gt;</td>\n",
       "      <td>xss</td>\n",
       "    </tr>\n",
       "    <tr>\n",
       "      <th>13682</th>\n",
       "      <td>&lt;source onbeforepaste=\"alert(1)\" contenteditab...</td>\n",
       "      <td>xss</td>\n",
       "    </tr>\n",
       "    <tr>\n",
       "      <th>13683</th>\n",
       "      <td>&lt;div draggable=\"true\" contenteditable&gt;drag me&lt;...</td>\n",
       "      <td>xss</td>\n",
       "    </tr>\n",
       "    <tr>\n",
       "      <th>13684</th>\n",
       "      <td>&lt;li&gt;&lt;cite id=\"citerefdomingos2015\" class=\"cita...</td>\n",
       "      <td>xss</td>\n",
       "    </tr>\n",
       "    <tr>\n",
       "      <th>13685</th>\n",
       "      <td>&lt;/span&gt;</td>\n",
       "      <td>xss</td>\n",
       "    </tr>\n",
       "  </tbody>\n",
       "</table>\n",
       "<p>44753 rows × 2 columns</p>\n",
       "</div>"
      ],
      "text/plain": [
       "                                                 payload   type\n",
       "0                                         c/ caridad s/n  valid\n",
       "1                                           campello, el  valid\n",
       "2                                                  40184  valid\n",
       "3                                       1442431887503330  valid\n",
       "4                                                  nue37  valid\n",
       "...                                                  ...    ...\n",
       "13681             <img onpointerenter=alert(1)>xss</img>    xss\n",
       "13682  <source onbeforepaste=\"alert(1)\" contenteditab...    xss\n",
       "13683  <div draggable=\"true\" contenteditable>drag me<...    xss\n",
       "13684  <li><cite id=\"citerefdomingos2015\" class=\"cita...    xss\n",
       "13685                                            </span>    xss\n",
       "\n",
       "[44753 rows x 2 columns]"
      ]
     },
     "execution_count": 7,
     "metadata": {},
     "output_type": "execute_result"
    }
   ],
   "source": [
    "Data"
   ]
  },
  {
   "cell_type": "code",
   "execution_count": 33,
   "metadata": {},
   "outputs": [],
   "source": [
    "Data = Data[~Data['type'].isin(['cmdi','path-traversal'])]"
   ]
  },
  {
   "cell_type": "code",
   "execution_count": 35,
   "metadata": {},
   "outputs": [],
   "source": [
    "import numpy as np\n",
    "X = Data['payload'].to_numpy().astype(str)\n",
    "Y = Data['type'].to_numpy().astype(str)"
   ]
  },
  {
   "cell_type": "code",
   "execution_count": 36,
   "metadata": {},
   "outputs": [],
   "source": [
    "from sklearn.feature_extraction.text import TfidfVectorizer\n",
    "from sklearn.svm import SVC\n",
    "from sklearn.pipeline import make_pipeline\n",
    "from sklearn.model_selection import GridSearchCV, train_test_split"
   ]
  },
  {
   "cell_type": "code",
   "execution_count": 38,
   "metadata": {},
   "outputs": [],
   "source": [
    "trainX, testX, trainY, testY = train_test_split(X, Y, test_size = 0.2, random_state = 1, stratify = Y)"
   ]
  },
  {
   "cell_type": "code",
   "execution_count": 40,
   "metadata": {},
   "outputs": [
    {
     "name": "stdout",
     "output_type": "stream",
     "text": [
      "Fitting 2 folds for each of 16 candidates, totalling 32 fits\n",
      "[CV] svc__C=1, svc__kernel=linear, tfidfvectorizer__ngram_range=(1, 1) \n"
     ]
    },
    {
     "name": "stderr",
     "output_type": "stream",
     "text": [
      "[Parallel(n_jobs=1)]: Using backend SequentialBackend with 1 concurrent workers.\n"
     ]
    },
    {
     "name": "stdout",
     "output_type": "stream",
     "text": [
      "[CV]  svc__C=1, svc__kernel=linear, tfidfvectorizer__ngram_range=(1, 1), score=0.993, total=   3.7s\n",
      "[CV] svc__C=1, svc__kernel=linear, tfidfvectorizer__ngram_range=(1, 1) \n"
     ]
    },
    {
     "name": "stderr",
     "output_type": "stream",
     "text": [
      "[Parallel(n_jobs=1)]: Done   1 out of   1 | elapsed:    3.7s remaining:    0.0s\n"
     ]
    },
    {
     "name": "stdout",
     "output_type": "stream",
     "text": [
      "[CV]  svc__C=1, svc__kernel=linear, tfidfvectorizer__ngram_range=(1, 1), score=0.994, total=   3.5s\n",
      "[CV] svc__C=1, svc__kernel=linear, tfidfvectorizer__ngram_range=(1, 2) \n"
     ]
    },
    {
     "name": "stderr",
     "output_type": "stream",
     "text": [
      "[Parallel(n_jobs=1)]: Done   2 out of   2 | elapsed:    7.2s remaining:    0.0s\n"
     ]
    },
    {
     "name": "stdout",
     "output_type": "stream",
     "text": [
      "[CV]  svc__C=1, svc__kernel=linear, tfidfvectorizer__ngram_range=(1, 2), score=0.995, total=   8.9s\n",
      "[CV] svc__C=1, svc__kernel=linear, tfidfvectorizer__ngram_range=(1, 2) \n"
     ]
    },
    {
     "name": "stderr",
     "output_type": "stream",
     "text": [
      "[Parallel(n_jobs=1)]: Done   3 out of   3 | elapsed:   16.1s remaining:    0.0s\n"
     ]
    },
    {
     "name": "stdout",
     "output_type": "stream",
     "text": [
      "[CV]  svc__C=1, svc__kernel=linear, tfidfvectorizer__ngram_range=(1, 2), score=0.996, total=   8.6s\n",
      "[CV] svc__C=1, svc__kernel=linear, tfidfvectorizer__ngram_range=(1, 4) \n"
     ]
    },
    {
     "name": "stderr",
     "output_type": "stream",
     "text": [
      "[Parallel(n_jobs=1)]: Done   4 out of   4 | elapsed:   24.8s remaining:    0.0s\n"
     ]
    },
    {
     "name": "stdout",
     "output_type": "stream",
     "text": [
      "[CV]  svc__C=1, svc__kernel=linear, tfidfvectorizer__ngram_range=(1, 4), score=0.995, total=  11.1s\n",
      "[CV] svc__C=1, svc__kernel=linear, tfidfvectorizer__ngram_range=(1, 4) \n"
     ]
    },
    {
     "name": "stderr",
     "output_type": "stream",
     "text": [
      "[Parallel(n_jobs=1)]: Done   5 out of   5 | elapsed:   36.0s remaining:    0.0s\n"
     ]
    },
    {
     "name": "stdout",
     "output_type": "stream",
     "text": [
      "[CV]  svc__C=1, svc__kernel=linear, tfidfvectorizer__ngram_range=(1, 4), score=0.996, total=  10.9s\n",
      "[CV] svc__C=1, svc__kernel=linear, tfidfvectorizer__ngram_range=(1, 8) \n"
     ]
    },
    {
     "name": "stderr",
     "output_type": "stream",
     "text": [
      "[Parallel(n_jobs=1)]: Done   6 out of   6 | elapsed:   47.0s remaining:    0.0s\n"
     ]
    },
    {
     "name": "stdout",
     "output_type": "stream",
     "text": [
      "[CV]  svc__C=1, svc__kernel=linear, tfidfvectorizer__ngram_range=(1, 8), score=0.995, total=  16.8s\n",
      "[CV] svc__C=1, svc__kernel=linear, tfidfvectorizer__ngram_range=(1, 8) \n"
     ]
    },
    {
     "name": "stderr",
     "output_type": "stream",
     "text": [
      "[Parallel(n_jobs=1)]: Done   7 out of   7 | elapsed:  1.1min remaining:    0.0s\n"
     ]
    },
    {
     "name": "stdout",
     "output_type": "stream",
     "text": [
      "[CV]  svc__C=1, svc__kernel=linear, tfidfvectorizer__ngram_range=(1, 8), score=0.996, total=  16.9s\n",
      "[CV] svc__C=1, svc__kernel=rbf, tfidfvectorizer__ngram_range=(1, 1) ..\n"
     ]
    },
    {
     "name": "stderr",
     "output_type": "stream",
     "text": [
      "[Parallel(n_jobs=1)]: Done   8 out of   8 | elapsed:  1.3min remaining:    0.0s\n"
     ]
    },
    {
     "name": "stdout",
     "output_type": "stream",
     "text": [
      "[CV]  svc__C=1, svc__kernel=rbf, tfidfvectorizer__ngram_range=(1, 1), score=0.999, total=   4.4s\n",
      "[CV] svc__C=1, svc__kernel=rbf, tfidfvectorizer__ngram_range=(1, 1) ..\n"
     ]
    },
    {
     "name": "stderr",
     "output_type": "stream",
     "text": [
      "[Parallel(n_jobs=1)]: Done   9 out of   9 | elapsed:  1.4min remaining:    0.0s\n"
     ]
    },
    {
     "name": "stdout",
     "output_type": "stream",
     "text": [
      "[CV]  svc__C=1, svc__kernel=rbf, tfidfvectorizer__ngram_range=(1, 1), score=0.999, total=   4.6s\n",
      "[CV] svc__C=1, svc__kernel=rbf, tfidfvectorizer__ngram_range=(1, 2) ..\n",
      "[CV]  svc__C=1, svc__kernel=rbf, tfidfvectorizer__ngram_range=(1, 2), score=0.998, total=  21.3s\n",
      "[CV] svc__C=1, svc__kernel=rbf, tfidfvectorizer__ngram_range=(1, 2) ..\n",
      "[CV]  svc__C=1, svc__kernel=rbf, tfidfvectorizer__ngram_range=(1, 2), score=0.999, total=  20.9s\n",
      "[CV] svc__C=1, svc__kernel=rbf, tfidfvectorizer__ngram_range=(1, 4) ..\n",
      "[CV]  svc__C=1, svc__kernel=rbf, tfidfvectorizer__ngram_range=(1, 4), score=0.998, total=  22.3s\n",
      "[CV] svc__C=1, svc__kernel=rbf, tfidfvectorizer__ngram_range=(1, 4) ..\n",
      "[CV]  svc__C=1, svc__kernel=rbf, tfidfvectorizer__ngram_range=(1, 4), score=0.998, total=  22.2s\n",
      "[CV] svc__C=1, svc__kernel=rbf, tfidfvectorizer__ngram_range=(1, 8) ..\n",
      "[CV]  svc__C=1, svc__kernel=rbf, tfidfvectorizer__ngram_range=(1, 8), score=0.998, total=  25.6s\n",
      "[CV] svc__C=1, svc__kernel=rbf, tfidfvectorizer__ngram_range=(1, 8) ..\n",
      "[CV]  svc__C=1, svc__kernel=rbf, tfidfvectorizer__ngram_range=(1, 8), score=0.999, total=  25.5s\n",
      "[CV] svc__C=10, svc__kernel=linear, tfidfvectorizer__ngram_range=(1, 1) \n",
      "[CV]  svc__C=10, svc__kernel=linear, tfidfvectorizer__ngram_range=(1, 1), score=0.997, total=   2.2s\n",
      "[CV] svc__C=10, svc__kernel=linear, tfidfvectorizer__ngram_range=(1, 1) \n",
      "[CV]  svc__C=10, svc__kernel=linear, tfidfvectorizer__ngram_range=(1, 1), score=0.997, total=   2.2s\n",
      "[CV] svc__C=10, svc__kernel=linear, tfidfvectorizer__ngram_range=(1, 2) \n",
      "[CV]  svc__C=10, svc__kernel=linear, tfidfvectorizer__ngram_range=(1, 2), score=0.997, total=   7.3s\n",
      "[CV] svc__C=10, svc__kernel=linear, tfidfvectorizer__ngram_range=(1, 2) \n",
      "[CV]  svc__C=10, svc__kernel=linear, tfidfvectorizer__ngram_range=(1, 2), score=0.998, total=   7.2s\n",
      "[CV] svc__C=10, svc__kernel=linear, tfidfvectorizer__ngram_range=(1, 4) \n",
      "[CV]  svc__C=10, svc__kernel=linear, tfidfvectorizer__ngram_range=(1, 4), score=0.998, total=   9.0s\n",
      "[CV] svc__C=10, svc__kernel=linear, tfidfvectorizer__ngram_range=(1, 4) \n",
      "[CV]  svc__C=10, svc__kernel=linear, tfidfvectorizer__ngram_range=(1, 4), score=0.999, total=   9.3s\n",
      "[CV] svc__C=10, svc__kernel=linear, tfidfvectorizer__ngram_range=(1, 8) \n",
      "[CV]  svc__C=10, svc__kernel=linear, tfidfvectorizer__ngram_range=(1, 8), score=0.998, total=  15.9s\n",
      "[CV] svc__C=10, svc__kernel=linear, tfidfvectorizer__ngram_range=(1, 8) \n",
      "[CV]  svc__C=10, svc__kernel=linear, tfidfvectorizer__ngram_range=(1, 8), score=0.998, total=  16.3s\n",
      "[CV] svc__C=10, svc__kernel=rbf, tfidfvectorizer__ngram_range=(1, 1) .\n",
      "[CV]  svc__C=10, svc__kernel=rbf, tfidfvectorizer__ngram_range=(1, 1), score=0.999, total=   4.1s\n",
      "[CV] svc__C=10, svc__kernel=rbf, tfidfvectorizer__ngram_range=(1, 1) .\n",
      "[CV]  svc__C=10, svc__kernel=rbf, tfidfvectorizer__ngram_range=(1, 1), score=0.999, total=   4.1s\n",
      "[CV] svc__C=10, svc__kernel=rbf, tfidfvectorizer__ngram_range=(1, 2) .\n",
      "[CV]  svc__C=10, svc__kernel=rbf, tfidfvectorizer__ngram_range=(1, 2), score=0.998, total=  22.2s\n",
      "[CV] svc__C=10, svc__kernel=rbf, tfidfvectorizer__ngram_range=(1, 2) .\n",
      "[CV]  svc__C=10, svc__kernel=rbf, tfidfvectorizer__ngram_range=(1, 2), score=0.999, total=  21.4s\n",
      "[CV] svc__C=10, svc__kernel=rbf, tfidfvectorizer__ngram_range=(1, 4) .\n",
      "[CV]  svc__C=10, svc__kernel=rbf, tfidfvectorizer__ngram_range=(1, 4), score=0.998, total=  22.8s\n",
      "[CV] svc__C=10, svc__kernel=rbf, tfidfvectorizer__ngram_range=(1, 4) .\n",
      "[CV]  svc__C=10, svc__kernel=rbf, tfidfvectorizer__ngram_range=(1, 4), score=0.999, total=  22.4s\n",
      "[CV] svc__C=10, svc__kernel=rbf, tfidfvectorizer__ngram_range=(1, 8) .\n",
      "[CV]  svc__C=10, svc__kernel=rbf, tfidfvectorizer__ngram_range=(1, 8), score=0.998, total=  26.7s\n",
      "[CV] svc__C=10, svc__kernel=rbf, tfidfvectorizer__ngram_range=(1, 8) .\n",
      "[CV]  svc__C=10, svc__kernel=rbf, tfidfvectorizer__ngram_range=(1, 8), score=0.999, total=  26.8s\n"
     ]
    },
    {
     "name": "stderr",
     "output_type": "stream",
     "text": [
      "[Parallel(n_jobs=1)]: Done  32 out of  32 | elapsed:  7.5min finished\n"
     ]
    },
    {
     "data": {
      "text/plain": [
       "GridSearchCV(cv=2,\n",
       "             estimator=Pipeline(steps=[('tfidfvectorizer',\n",
       "                                        TfidfVectorizer(analyzer='char',\n",
       "                                                        max_features=1024)),\n",
       "                                       ('svc', SVC())]),\n",
       "             param_grid={'svc__C': [1, 10], 'svc__kernel': ['linear', 'rbf'],\n",
       "                         'tfidfvectorizer__ngram_range': [(1, 1), (1, 2),\n",
       "                                                          (1, 4), (1, 8)]},\n",
       "             verbose=10)"
      ]
     },
     "execution_count": 40,
     "metadata": {},
     "output_type": "execute_result"
    }
   ],
   "source": [
    "pipe = make_pipeline(TfidfVectorizer(input = 'content', lowercase = True, analyzer = 'char', max_features = 1024), SVC())\n",
    "param_grid = {'tfidfvectorizer__ngram_range': [(1, 1), (1, 2), (1, 4),(1,8)], 'svc__C': [1, 10], 'svc__kernel': ['linear', 'rbf']}\n",
    "grid = GridSearchCV(pipe,param_grid,cv=2,verbose=10)\n",
    "grid.fit(trainX,trainY)"
   ]
  },
  {
   "cell_type": "code",
   "execution_count": 41,
   "metadata": {},
   "outputs": [
    {
     "data": {
      "text/plain": [
       "0.9995492957746479"
      ]
     },
     "execution_count": 41,
     "metadata": {},
     "output_type": "execute_result"
    }
   ],
   "source": [
    "grid.score(testX,testY)"
   ]
  },
  {
   "cell_type": "code",
   "execution_count": 44,
   "metadata": {},
   "outputs": [
    {
     "name": "stdout",
     "output_type": "stream",
     "text": [
      "              precision    recall  f1-score   support\n",
      "\n",
      "        sqli       1.00      1.00      1.00      2170\n",
      "       valid       1.00      1.00      1.00      3861\n",
      "         xss       1.00      1.00      1.00      2844\n",
      "\n",
      "    accuracy                           1.00      8875\n",
      "   macro avg       1.00      1.00      1.00      8875\n",
      "weighted avg       1.00      1.00      1.00      8875\n",
      "\n"
     ]
    }
   ],
   "source": [
    "from sklearn.metrics import classification_report\n",
    "Prediction = grid.predict(testX)\n",
    "print(classification_report(testY,Prediction))"
   ]
  },
  {
   "cell_type": "code",
   "execution_count": 45,
   "metadata": {},
   "outputs": [
    {
     "data": {
      "text/plain": [
       "{'svc__C': 10, 'svc__kernel': 'rbf', 'tfidfvectorizer__ngram_range': (1, 1)}"
      ]
     },
     "execution_count": 45,
     "metadata": {},
     "output_type": "execute_result"
    }
   ],
   "source": [
    "grid.best_params_"
   ]
  },
  {
   "cell_type": "code",
   "execution_count": 46,
   "metadata": {},
   "outputs": [
    {
     "data": {
      "text/plain": [
       "Pipeline(steps=[('tfidfvectorizer',\n",
       "                 TfidfVectorizer(analyzer='char', max_features=1024)),\n",
       "                ('svc', SVC(C=10))])"
      ]
     },
     "execution_count": 46,
     "metadata": {},
     "output_type": "execute_result"
    }
   ],
   "source": [
    "pipe = make_pipeline(TfidfVectorizer(input = 'content', lowercase = True, analyzer = 'char', max_features = 1024, ngram_range = (1, 1)), SVC(C = 10, kernel = 'rbf'))\n",
    "pipe.fit(trainX,trainY)"
   ]
  },
  {
   "cell_type": "code",
   "execution_count": 47,
   "metadata": {},
   "outputs": [
    {
     "data": {
      "text/plain": [
       "0.9995492957746479"
      ]
     },
     "execution_count": 47,
     "metadata": {},
     "output_type": "execute_result"
    }
   ],
   "source": [
    "pipe.score(testX,testY)"
   ]
  },
  {
   "cell_type": "code",
   "execution_count": 48,
   "metadata": {},
   "outputs": [
    {
     "name": "stdout",
     "output_type": "stream",
     "text": [
      "              precision    recall  f1-score   support\n",
      "\n",
      "        sqli       1.00      1.00      1.00      2170\n",
      "       valid       1.00      1.00      1.00      3861\n",
      "         xss       1.00      1.00      1.00      2844\n",
      "\n",
      "    accuracy                           1.00      8875\n",
      "   macro avg       1.00      1.00      1.00      8875\n",
      "weighted avg       1.00      1.00      1.00      8875\n",
      "\n"
     ]
    }
   ],
   "source": [
    "Prediction = grid.predict(testX)\n",
    "print(classification_report(testY,Prediction))"
   ]
  },
  {
   "cell_type": "code",
   "execution_count": 52,
   "metadata": {},
   "outputs": [
    {
     "data": {
      "text/plain": [
       "['TF-IDF_SVM_V1.0.m']"
      ]
     },
     "execution_count": 52,
     "metadata": {},
     "output_type": "execute_result"
    }
   ],
   "source": [
    "import joblib\n",
    "\n",
    "joblib.dump(pipe, 'TF-IDF_SVM_V1.0.m')"
   ]
  },
  {
   "cell_type": "code",
   "execution_count": null,
   "metadata": {},
   "outputs": [],
   "source": []
  }
 ],
 "metadata": {
  "kernelspec": {
   "display_name": "Python 3",
   "language": "python",
   "name": "python3"
  },
  "language_info": {
   "codemirror_mode": {
    "name": "ipython",
    "version": 3
   },
   "file_extension": ".py",
   "mimetype": "text/x-python",
   "name": "python",
   "nbconvert_exporter": "python",
   "pygments_lexer": "ipython3",
   "version": "3.8.5"
  }
 },
 "nbformat": 4,
 "nbformat_minor": 4
}
